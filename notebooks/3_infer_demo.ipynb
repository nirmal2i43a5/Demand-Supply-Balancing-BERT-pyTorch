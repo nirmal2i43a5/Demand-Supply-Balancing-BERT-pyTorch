{
 "cells": [
  {
   "cell_type": "markdown",
   "id": "ee6f6f87",
   "metadata": {},
   "source": [
    "### Pipeline & helper"
   ]
  },
  {
   "cell_type": "code",
   "execution_count": 26,
   "id": "241387d6",
   "metadata": {},
   "outputs": [],
   "source": [
    "import json\n",
    "import os \n",
    "from dataclasses import dataclass\n",
    "from typing import List, Dict, Any\n",
    "from transformers import AutoTokenizer, AutoModelForTokenClassification, pipeline"
   ]
  },
  {
   "cell_type": "code",
   "execution_count": 29,
   "id": "fcf1a612",
   "metadata": {},
   "outputs": [],
   "source": [
    "MODEL_PATH = \"../models/bert_ner_baseline_v1\""
   ]
  },
  {
   "cell_type": "code",
   "execution_count": 86,
   "id": "25c00dba",
   "metadata": {},
   "outputs": [],
   "source": [
    "tokenizer = AutoTokenizer.from_pretrained(MODEL_PATH, use_fast=True)\n",
    "model = AutoModelForTokenClassification.from_pretrained(MODEL_PATH)"
   ]
  },
  {
   "cell_type": "code",
   "execution_count": 92,
   "id": "087a79df",
   "metadata": {},
   "outputs": [
    {
     "name": "stderr",
     "output_type": "stream",
     "text": [
      "Device set to use cpu\n"
     ]
    }
   ],
   "source": [
    "tokenizer = AutoTokenizer.from_pretrained(MODEL_PATH)\n",
    "model = AutoModelForTokenClassification.from_pretrained(MODEL_PATH)\n",
    "\n",
    "ner_pipeline = pipeline(\n",
    "                        \"ner\", \n",
    "                        model=model, \n",
    "                        tokenizer=tokenizer, \n",
    "                        aggregation_strategy=\"simple\"\n",
    "                        )\n",
    "text = \"Aspirin can cause gastric bleeding in some patients with T2D.\"\n",
    "\n",
    "ner_results = ner_pipeline(text)  # spans with entity_group, score, start, end"
   ]
  },
  {
   "cell_type": "code",
   "execution_count": 102,
   "id": "d525e12e",
   "metadata": {},
   "outputs": [
    {
     "data": {
      "text/plain": [
       "[{'entity_group': 'CHEMICAL',\n",
       "  'score': 0.9903351,\n",
       "  'word': 'As',\n",
       "  'start': 0,\n",
       "  'end': 2},\n",
       " {'entity_group': 'CHEMICAL',\n",
       "  'score': 0.8459496,\n",
       "  'word': '##pi',\n",
       "  'start': 2,\n",
       "  'end': 4},\n",
       " {'entity_group': 'CHEMICAL',\n",
       "  'score': 0.84560657,\n",
       "  'word': '##rin',\n",
       "  'start': 4,\n",
       "  'end': 7},\n",
       " {'entity_group': 'DISEASE',\n",
       "  'score': 0.83817285,\n",
       "  'word': 'gastric bleeding',\n",
       "  'start': 18,\n",
       "  'end': 34},\n",
       " {'entity_group': 'DISEASE',\n",
       "  'score': 0.74497277,\n",
       "  'word': 'T',\n",
       "  'start': 57,\n",
       "  'end': 58}]"
      ]
     },
     "execution_count": 102,
     "metadata": {},
     "output_type": "execute_result"
    }
   ],
   "source": [
    "ner_results"
   ]
  },
  {
   "cell_type": "markdown",
   "id": "db885844",
   "metadata": {},
   "source": [
    "Since some entity still starts with ##.I am fixing such tokens with fix_subword_tokens "
   ]
  }
 ],
 "metadata": {
  "kernelspec": {
   "display_name": "base",
   "language": "python",
   "name": "python3"
  },
  "language_info": {
   "codemirror_mode": {
    "name": "ipython",
    "version": 3
   },
   "file_extension": ".py",
   "mimetype": "text/x-python",
   "name": "python",
   "nbconvert_exporter": "python",
   "pygments_lexer": "ipython3",
   "version": "3.12.7"
  }
 },
 "nbformat": 4,
 "nbformat_minor": 5
}
