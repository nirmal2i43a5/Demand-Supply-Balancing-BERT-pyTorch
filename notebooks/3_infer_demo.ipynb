{
 "cells": [
  {
   "cell_type": "markdown",
   "id": "ee6f6f87",
   "metadata": {},
   "source": [
    "### Pipeline & helper"
   ]
  },
  {
   "cell_type": "code",
   "execution_count": 2,
   "id": "241387d6",
   "metadata": {},
   "outputs": [],
   "source": [
    "from dataclasses import dataclass\n",
    "from typing import List, Dict, Any\n",
    "from transformers import AutoTokenizer, AutoModelForTokenClassification, pipeline"
   ]
  },
  {
   "cell_type": "code",
   "execution_count": 3,
   "id": "fcf1a612",
   "metadata": {},
   "outputs": [],
   "source": [
    "MODEL_PATH = \"../models/bert_ner_baseline_v1\""
   ]
  },
  {
   "cell_type": "code",
   "execution_count": 4,
   "id": "25c00dba",
   "metadata": {},
   "outputs": [],
   "source": [
    "tokenizer = AutoTokenizer.from_pretrained(MODEL_PATH, use_fast=True)\n",
    "model = AutoModelForTokenClassification.from_pretrained(MODEL_PATH)"
   ]
  },
  {
   "cell_type": "code",
   "execution_count": 5,
   "id": "087a79df",
   "metadata": {},
   "outputs": [
    {
     "name": "stderr",
     "output_type": "stream",
     "text": [
      "Device set to use cpu\n"
     ]
    }
   ],
   "source": [
    "tokenizer = AutoTokenizer.from_pretrained(MODEL_PATH)\n",
    "model = AutoModelForTokenClassification.from_pretrained(MODEL_PATH)\n",
    "\n",
    "ner_pipeline = pipeline(\n",
    "                        \"ner\", \n",
    "                        model=model, \n",
    "                        tokenizer=tokenizer, \n",
    "                        aggregation_strategy=\"simple\"\n",
    "                        )\n",
    "text = \"Aspirin can cause gastric bleeding in some patients with T2D.\"\n",
    "\n",
    "ner_results = ner_pipeline(text)  # spans with entity_group, score, start, end"
   ]
  },
  {
   "cell_type": "code",
   "execution_count": 12,
   "id": "2ef9f1fe",
   "metadata": {},
   "outputs": [
    {
     "data": {
      "text/plain": [
       "[{'entity_group': 'CHEMICAL',\n",
       "  'score': 0.9903351,\n",
       "  'word': 'As',\n",
       "  'start': 0,\n",
       "  'end': 2},\n",
       " {'entity_group': 'CHEMICAL',\n",
       "  'score': 0.8459496,\n",
       "  'word': '##pi',\n",
       "  'start': 2,\n",
       "  'end': 4},\n",
       " {'entity_group': 'CHEMICAL',\n",
       "  'score': 0.84560657,\n",
       "  'word': '##rin',\n",
       "  'start': 4,\n",
       "  'end': 7},\n",
       " {'entity_group': 'DISEASE',\n",
       "  'score': 0.83817285,\n",
       "  'word': 'gastric bleeding',\n",
       "  'start': 18,\n",
       "  'end': 34},\n",
       " {'entity_group': 'DISEASE',\n",
       "  'score': 0.74497277,\n",
       "  'word': 'T',\n",
       "  'start': 57,\n",
       "  'end': 58}]"
      ]
     },
     "execution_count": 12,
     "metadata": {},
     "output_type": "execute_result"
    }
   ],
   "source": [
    "ner_results"
   ]
  },
  {
   "cell_type": "markdown",
   "id": "db885844",
   "metadata": {},
   "source": [
    "#### Since some entity still starts with ##.I am fixing such tokens with using fix_subword_tokens functions"
   ]
  },
  {
   "cell_type": "code",
   "execution_count": 7,
   "id": "02174f52",
   "metadata": {},
   "outputs": [],
   "source": [
    "def fix_subword_tokens(text,ner_results):\n",
    "    aggregated = []\n",
    "    current_entity = None\n",
    "    \n",
    "    for token in ner_results:\n",
    "        if token['word'].startswith('##'):\n",
    "            if current_entity and current_entity['entity_group'] == token['entity_group']:\n",
    "                current_entity['word'] += token['word'][2:]  # Remove ##\n",
    "                current_entity['end'] = token['end']\n",
    "                current_entity['score'] = max(current_entity['score'], token['score'])\n",
    "        else:\n",
    "            if current_entity:\n",
    "                aggregated.append(current_entity)\n",
    "            current_entity = token.copy()\n",
    "    \n",
    "    if current_entity:\n",
    "        aggregated.append(current_entity)\n",
    "    \n",
    "    return aggregated\n"
   ]
  },
  {
   "cell_type": "code",
   "execution_count": 8,
   "id": "01409b68",
   "metadata": {},
   "outputs": [],
   "source": [
    "cleaned_ner_results = fix_subword_tokens(text,ner_results)\n"
   ]
  },
  {
   "cell_type": "code",
   "execution_count": 9,
   "id": "ac680c1c",
   "metadata": {},
   "outputs": [
    {
     "data": {
      "text/plain": [
       "[{'entity_group': 'CHEMICAL',\n",
       "  'score': 0.9903351,\n",
       "  'word': 'Aspirin',\n",
       "  'start': 0,\n",
       "  'end': 7},\n",
       " {'entity_group': 'DISEASE',\n",
       "  'score': 0.83817285,\n",
       "  'word': 'gastric bleeding',\n",
       "  'start': 18,\n",
       "  'end': 34},\n",
       " {'entity_group': 'DISEASE',\n",
       "  'score': 0.74497277,\n",
       "  'word': 'T',\n",
       "  'start': 57,\n",
       "  'end': 58}]"
      ]
     },
     "execution_count": 9,
     "metadata": {},
     "output_type": "execute_result"
    }
   ],
   "source": [
    "cleaned_ner_results"
   ]
  },
  {
   "cell_type": "code",
   "execution_count": 10,
   "id": "f343e3b8",
   "metadata": {},
   "outputs": [],
   "source": [
    "def ner_predict(text):\n",
    "    raw = ner_pipeline(text)    # token-level results\n",
    "    cleaned = fix_subword_tokens(text, raw) # fixing  subword tokens\n",
    "    return cleaned"
   ]
  },
  {
   "cell_type": "markdown",
   "id": "0d8bf419",
   "metadata": {},
   "source": [
    "#### Real time interaction with gradio"
   ]
  },
  {
   "cell_type": "code",
   "execution_count": 11,
   "id": "df8c16be",
   "metadata": {},
   "outputs": [
    {
     "name": "stdout",
     "output_type": "stream",
     "text": [
      "* Running on local URL:  http://127.0.0.1:7860\n",
      "* To create a public link, set `share=True` in `launch()`.\n"
     ]
    },
    {
     "data": {
      "text/html": [
       "<div><iframe src=\"http://127.0.0.1:7860/\" width=\"100%\" height=\"500\" allow=\"autoplay; camera; microphone; clipboard-read; clipboard-write;\" frameborder=\"0\" allowfullscreen></iframe></div>"
      ],
      "text/plain": [
       "<IPython.core.display.HTML object>"
      ]
     },
     "metadata": {},
     "output_type": "display_data"
    },
    {
     "data": {
      "text/plain": []
     },
     "execution_count": 11,
     "metadata": {},
     "output_type": "execute_result"
    }
   ],
   "source": [
    "import gradio as gr\n",
    "\n",
    "with gr.Blocks() as demo:\n",
    "    gr.Markdown(\"Biomedical NER Demo\")\n",
    "    inp = gr.Textbox(lines=3, placeholder=\"Type biomedical text here...\")\n",
    "    btn = gr.Button(\"Predict\")\n",
    "\n",
    "    out_json = gr.JSON(label=\"Entities\")\n",
    "    btn.click(ner_predict, inputs=inp, outputs=out_json)\n",
    "\n",
    "demo.launch(share=False)"
   ]
  },
  {
   "cell_type": "code",
   "execution_count": null,
   "id": "426ec91e",
   "metadata": {},
   "outputs": [],
   "source": []
  }
 ],
 "metadata": {
  "kernelspec": {
   "display_name": "base",
   "language": "python",
   "name": "python3"
  },
  "language_info": {
   "codemirror_mode": {
    "name": "ipython",
    "version": 3
   },
   "file_extension": ".py",
   "mimetype": "text/x-python",
   "name": "python",
   "nbconvert_exporter": "python",
   "pygments_lexer": "ipython3",
   "version": "3.12.7"
  }
 },
 "nbformat": 4,
 "nbformat_minor": 5
}
