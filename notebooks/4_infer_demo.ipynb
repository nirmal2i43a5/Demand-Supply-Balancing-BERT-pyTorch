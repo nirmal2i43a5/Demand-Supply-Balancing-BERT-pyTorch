{
 "cells": [
  {
   "cell_type": "markdown",
   "id": "ee6f6f87",
   "metadata": {},
   "source": [
    "### Pipeline & helper"
   ]
  },
  {
   "cell_type": "code",
   "execution_count": 3,
   "id": "241387d6",
   "metadata": {},
   "outputs": [],
   "source": [
    "import torch\n",
    "from transformers import AutoTokenizer, AutoModelForTokenClassification, pipeline"
   ]
  },
  {
   "cell_type": "code",
   "execution_count": 4,
   "id": "fcf1a612",
   "metadata": {},
   "outputs": [],
   "source": [
    "# MODEL_PATH = \"../models/bert_ner_baseline_v1\"\n",
    "MODEL_PATH = \"../outputs/models/biobert_ner_baseline_v1\"\n"
   ]
  },
  {
   "cell_type": "code",
   "execution_count": 5,
   "id": "25c00dba",
   "metadata": {},
   "outputs": [],
   "source": [
    "tokenizer = AutoTokenizer.from_pretrained(MODEL_PATH, use_fast=True)\n",
    "model = AutoModelForTokenClassification.from_pretrained(MODEL_PATH)"
   ]
  },
  {
   "cell_type": "code",
   "execution_count": 6,
   "id": "cdc4c707",
   "metadata": {},
   "outputs": [
    {
     "name": "stderr",
     "output_type": "stream",
     "text": [
      "Device set to use cpu\n"
     ]
    }
   ],
   "source": [
    "   ner_pipeline = pipeline(\"token-classification\", \n",
    "                            model=model,\n",
    "                            tokenizer=tokenizer, \n",
    "                            device= 0 if torch.cuda.is_available() else -1, \n",
    "                            aggregation_strategy=\"simple\")"
   ]
  },
  {
   "cell_type": "code",
   "execution_count": 8,
   "id": "dcdf1a3f",
   "metadata": {},
   "outputs": [],
   "source": [
    "\n",
    "\n",
    "text = '''\n",
    "Case studies highlight BioBERT’s transformative role in biomedical research. In oncology,\n",
    "BioBERT-based models have been applied to classify clinical trial reports, extracting treatment\n",
    "outcomes and adverse effects for drugs like Pembrolizumab and Nivolumab in melanoma patients.\n",
    "Similarly, cardiology research has leveraged BioBERT to identify biomarkers such as Troponin levels\n",
    "associated with myocardial infarction, improving early diagnostic pipelines. In infectious disease\n",
    "research, BioBERT assists in rapidly mining literature during outbreaks. During the COVID-19\n",
    "pandemic, BioBERT-enabled pipelines processed thousands of PubMed abstracts daily, surfacing\n",
    "relevant insights about cytokine storms, SARS-CoV-2 spike proteins, and potential therapeutic targets.\n",
    "This accelerated both vaccine development and clinical response. Another area of growth is\n",
    "pharmacovigilance, where BioBERT extracts signals of adverse drug reactions from clinical notes and\n",
    "patient forums. Detecting associations like “Ibuprofen use” linked with “gastric ulcer” enables earlier\n",
    "safety interventions. Integrating these insights with regulatory databases strengthens drug safety\n",
    "monitoring. By continuously adapting to emerging biomedical knowledge, BioBERT acts as an evolving\n",
    "bridge between natural language understanding and real-world medical applications, ensuring\n",
    "researchers and clinicians can stay ahead in precision healthcare.\n",
    "'''\n",
    "ner_results = ner_pipeline(text)  # spans with entity_group, score, start, end"
   ]
  },
  {
   "cell_type": "code",
   "execution_count": 9,
   "id": "8c1d35bd",
   "metadata": {},
   "outputs": [
    {
     "data": {
      "text/plain": [
       "[{'entity_group': 'CHEMICAL',\n",
       "  'score': 0.9990281,\n",
       "  'word': 'P',\n",
       "  'start': 231,\n",
       "  'end': 232},\n",
       " {'entity_group': 'CHEMICAL',\n",
       "  'score': 0.9787481,\n",
       "  'word': '##em',\n",
       "  'start': 232,\n",
       "  'end': 234},\n",
       " {'entity_group': 'CHEMICAL',\n",
       "  'score': 0.9873406,\n",
       "  'word': '##bro',\n",
       "  'start': 234,\n",
       "  'end': 237},\n",
       " {'entity_group': 'CHEMICAL',\n",
       "  'score': 0.8762808,\n",
       "  'word': '##li',\n",
       "  'start': 237,\n",
       "  'end': 239},\n",
       " {'entity_group': 'CHEMICAL',\n",
       "  'score': 0.7162142,\n",
       "  'word': '##zu',\n",
       "  'start': 239,\n",
       "  'end': 241},\n",
       " {'entity_group': 'CHEMICAL',\n",
       "  'score': 0.65014315,\n",
       "  'word': '##ma',\n",
       "  'start': 241,\n",
       "  'end': 243},\n",
       " {'entity_group': 'CHEMICAL',\n",
       "  'score': 0.86017895,\n",
       "  'word': '##b',\n",
       "  'start': 243,\n",
       "  'end': 244},\n",
       " {'entity_group': 'CHEMICAL',\n",
       "  'score': 0.9992848,\n",
       "  'word': 'Ni',\n",
       "  'start': 249,\n",
       "  'end': 251},\n",
       " {'entity_group': 'CHEMICAL',\n",
       "  'score': 0.98208815,\n",
       "  'word': '##vo',\n",
       "  'start': 251,\n",
       "  'end': 253},\n",
       " {'entity_group': 'CHEMICAL',\n",
       "  'score': 0.76447153,\n",
       "  'word': '##lum',\n",
       "  'start': 253,\n",
       "  'end': 256},\n",
       " {'entity_group': 'CHEMICAL',\n",
       "  'score': 0.79745704,\n",
       "  'word': '##ab',\n",
       "  'start': 256,\n",
       "  'end': 258},\n",
       " {'entity_group': 'DISEASE',\n",
       "  'score': 0.9980812,\n",
       "  'word': 'me',\n",
       "  'start': 262,\n",
       "  'end': 264},\n",
       " {'entity_group': 'DISEASE',\n",
       "  'score': 0.86549556,\n",
       "  'word': '##lanoma',\n",
       "  'start': 264,\n",
       "  'end': 270},\n",
       " {'entity_group': 'CHEMICAL',\n",
       "  'score': 0.9096547,\n",
       "  'word': 'T',\n",
       "  'start': 365,\n",
       "  'end': 366},\n",
       " {'entity_group': 'CHEMICAL',\n",
       "  'score': 0.41970724,\n",
       "  'word': '##onin',\n",
       "  'start': 369,\n",
       "  'end': 373},\n",
       " {'entity_group': 'DISEASE',\n",
       "  'score': 0.9994229,\n",
       "  'word': 'my',\n",
       "  'start': 397,\n",
       "  'end': 399},\n",
       " {'entity_group': 'DISEASE',\n",
       "  'score': 0.8289278,\n",
       "  'word': '##ocardial',\n",
       "  'start': 399,\n",
       "  'end': 407},\n",
       " {'entity_group': 'DISEASE',\n",
       "  'score': 0.6641084,\n",
       "  'word': 'in',\n",
       "  'start': 408,\n",
       "  'end': 410},\n",
       " {'entity_group': 'DISEASE',\n",
       "  'score': 0.75484145,\n",
       "  'word': '##farction',\n",
       "  'start': 410,\n",
       "  'end': 418},\n",
       " {'entity_group': 'DISEASE',\n",
       "  'score': 0.7537574,\n",
       "  'word': 'infectious disease',\n",
       "  'start': 461,\n",
       "  'end': 479},\n",
       " {'entity_group': 'DISEASE',\n",
       "  'score': 0.83384234,\n",
       "  'word': 'adverse drug reactions',\n",
       "  'start': 913,\n",
       "  'end': 935},\n",
       " {'entity_group': 'CHEMICAL',\n",
       "  'score': 0.9840911,\n",
       "  'word': 'I',\n",
       "  'start': 1005,\n",
       "  'end': 1006},\n",
       " {'entity_group': 'CHEMICAL',\n",
       "  'score': 0.96216196,\n",
       "  'word': '##bu',\n",
       "  'start': 1006,\n",
       "  'end': 1008},\n",
       " {'entity_group': 'CHEMICAL',\n",
       "  'score': 0.8360482,\n",
       "  'word': '##p',\n",
       "  'start': 1008,\n",
       "  'end': 1009},\n",
       " {'entity_group': 'CHEMICAL',\n",
       "  'score': 0.66413033,\n",
       "  'word': '##ro',\n",
       "  'start': 1009,\n",
       "  'end': 1011},\n",
       " {'entity_group': 'CHEMICAL',\n",
       "  'score': 0.8659602,\n",
       "  'word': '##fen',\n",
       "  'start': 1011,\n",
       "  'end': 1014},\n",
       " {'entity_group': 'DISEASE',\n",
       "  'score': 0.9654146,\n",
       "  'word': 'gas',\n",
       "  'start': 1033,\n",
       "  'end': 1036},\n",
       " {'entity_group': 'DISEASE',\n",
       "  'score': 0.8030571,\n",
       "  'word': 'ulcer',\n",
       "  'start': 1041,\n",
       "  'end': 1046}]"
      ]
     },
     "execution_count": 9,
     "metadata": {},
     "output_type": "execute_result"
    }
   ],
   "source": [
    "ner_results"
   ]
  },
  {
   "cell_type": "markdown",
   "id": "db885844",
   "metadata": {},
   "source": [
    "#### Since some entity still starts with ##.I am fixing such tokens with using fix_subword_tokens functions"
   ]
  },
  {
   "cell_type": "code",
   "execution_count": 10,
   "id": "02174f52",
   "metadata": {},
   "outputs": [],
   "source": [
    "def fix_subword_tokens(text,ner_results):\n",
    "    aggregated = []\n",
    "    current_entity = None\n",
    "    \n",
    "    for token in ner_results:\n",
    "        if token['word'].startswith('##'):\n",
    "            if current_entity and current_entity['entity_group'] == token['entity_group']:\n",
    "                current_entity['word'] += token['word'][2:]  # Remove ##\n",
    "                current_entity['end'] = token['end']\n",
    "                current_entity['score'] = max(current_entity['score'], token['score'])\n",
    "        else:\n",
    "            if current_entity:\n",
    "                aggregated.append(current_entity)\n",
    "            current_entity = token.copy()\n",
    "    \n",
    "    \n",
    "    if current_entity:\n",
    "        aggregated.append(current_entity)\n",
    "    \n",
    "    return aggregated\n"
   ]
  },
  {
   "cell_type": "code",
   "execution_count": 11,
   "id": "078831ff",
   "metadata": {},
   "outputs": [],
   "source": [
    "def ner_predict(text):\n",
    "    raw = ner_pipeline(text)    # token-level results\n",
    "\n",
    "    cleaned_ner = fix_subword_tokens(text, raw) # fixing  subword tokens\n",
    "    return cleaned_ner"
   ]
  },
  {
   "cell_type": "code",
   "execution_count": 12,
   "id": "01409b68",
   "metadata": {},
   "outputs": [
    {
     "data": {
      "text/plain": [
       "[{'entity_group': 'CHEMICAL',\n",
       "  'score': 0.9990281,\n",
       "  'word': 'Pembrolizumab',\n",
       "  'start': 231,\n",
       "  'end': 244},\n",
       " {'entity_group': 'CHEMICAL',\n",
       "  'score': 0.9992848,\n",
       "  'word': 'Nivolumab',\n",
       "  'start': 249,\n",
       "  'end': 258},\n",
       " {'entity_group': 'DISEASE',\n",
       "  'score': 0.9980812,\n",
       "  'word': 'melanoma',\n",
       "  'start': 262,\n",
       "  'end': 270},\n",
       " {'entity_group': 'CHEMICAL',\n",
       "  'score': 0.9096547,\n",
       "  'word': 'Tonin',\n",
       "  'start': 365,\n",
       "  'end': 373},\n",
       " {'entity_group': 'DISEASE',\n",
       "  'score': 0.9994229,\n",
       "  'word': 'myocardial',\n",
       "  'start': 397,\n",
       "  'end': 407},\n",
       " {'entity_group': 'DISEASE',\n",
       "  'score': 0.75484145,\n",
       "  'word': 'infarction',\n",
       "  'start': 408,\n",
       "  'end': 418},\n",
       " {'entity_group': 'DISEASE',\n",
       "  'score': 0.7537574,\n",
       "  'word': 'infectious disease',\n",
       "  'start': 461,\n",
       "  'end': 479},\n",
       " {'entity_group': 'DISEASE',\n",
       "  'score': 0.83384234,\n",
       "  'word': 'adverse drug reactions',\n",
       "  'start': 913,\n",
       "  'end': 935},\n",
       " {'entity_group': 'CHEMICAL',\n",
       "  'score': 0.9840911,\n",
       "  'word': 'Ibuprofen',\n",
       "  'start': 1005,\n",
       "  'end': 1014},\n",
       " {'entity_group': 'DISEASE',\n",
       "  'score': 0.9654146,\n",
       "  'word': 'gas',\n",
       "  'start': 1033,\n",
       "  'end': 1036},\n",
       " {'entity_group': 'DISEASE',\n",
       "  'score': 0.8030571,\n",
       "  'word': 'ulcer',\n",
       "  'start': 1041,\n",
       "  'end': 1046}]"
      ]
     },
     "execution_count": 12,
     "metadata": {},
     "output_type": "execute_result"
    }
   ],
   "source": [
    "ner_predict(text)\n"
   ]
  },
  {
   "cell_type": "markdown",
   "id": "0d8bf419",
   "metadata": {},
   "source": [
    "#### Real time interaction with gradio"
   ]
  },
  {
   "cell_type": "code",
   "execution_count": 15,
   "id": "df8c16be",
   "metadata": {},
   "outputs": [
    {
     "name": "stdout",
     "output_type": "stream",
     "text": [
      "* Running on local URL:  http://127.0.0.1:7860\n",
      "* To create a public link, set `share=True` in `launch()`.\n"
     ]
    },
    {
     "data": {
      "text/html": [
       "<div><iframe src=\"http://127.0.0.1:7860/\" width=\"100%\" height=\"500\" allow=\"autoplay; camera; microphone; clipboard-read; clipboard-write;\" frameborder=\"0\" allowfullscreen></iframe></div>"
      ],
      "text/plain": [
       "<IPython.core.display.HTML object>"
      ]
     },
     "metadata": {},
     "output_type": "display_data"
    },
    {
     "data": {
      "text/plain": []
     },
     "execution_count": 15,
     "metadata": {},
     "output_type": "execute_result"
    }
   ],
   "source": [
    "import gradio as gr\n",
    "\n",
    "with gr.Blocks() as demo:\n",
    "    gr.Markdown(\"Biomedical NER Demo\")\n",
    "    inp = gr.Textbox(lines=3, placeholder=\"Type biomedical text here...\")\n",
    "    btn = gr.Button(\"Predict\")\n",
    "\n",
    "    out_json = gr.JSON(label=\"Entities\")\n",
    "    btn.click(ner_predict, inputs=inp, outputs=out_json)\n",
    "\n",
    "demo.launch(share=False)"
   ]
  },
  {
   "cell_type": "code",
   "execution_count": null,
   "id": "426ec91e",
   "metadata": {},
   "outputs": [],
   "source": []
  }
 ],
 "metadata": {
  "kernelspec": {
   "display_name": "base",
   "language": "python",
   "name": "python3"
  },
  "language_info": {
   "codemirror_mode": {
    "name": "ipython",
    "version": 3
   },
   "file_extension": ".py",
   "mimetype": "text/x-python",
   "name": "python",
   "nbconvert_exporter": "python",
   "pygments_lexer": "ipython3",
   "version": "3.12.7"
  }
 },
 "nbformat": 4,
 "nbformat_minor": 5
}
